{
 "cells": [
  {
   "cell_type": "code",
   "execution_count": 13,
   "metadata": {},
   "outputs": [],
   "source": [
    "class Node:\n",
    "    def __init__(self,data):\n",
    "        self.left=None\n",
    "        self.right=None\n",
    "        self.data=data\n",
    "def inorder (root):\n",
    "    if root :\n",
    "        # recursive call for the left subtree\n",
    "        inorder(root.left)# -> n/2\n",
    "        print(root.data,end=' ')\n",
    "        # recursive call fot the right subtree\n",
    "        inorder(root.right)# ->n/2\n",
    "def preorder(root):\n",
    "    if root is not None:\n",
    "        print(root.data,end=' ')\n",
    "        preorder(root.left)\n",
    "        preorder(root.right)\n",
    "def postorder(root):\n",
    "    if root:\n",
    "        postorder(root.left)\n",
    "        postorder(root.right)\n",
    "        print(root.data,end=' ')"
   ]
  },
  {
   "cell_type": "code",
   "execution_count": 15,
   "metadata": {},
   "outputs": [
    {
     "name": "stdout",
     "output_type": "stream",
     "text": [
      "inorder traversal :\n",
      "4 2 5 1 3 "
     ]
    }
   ],
   "source": [
    "# driver code \n",
    "root=Node(1)\n",
    "root.left=Node(2)\n",
    "root.right=Node(3)\n",
    "root.left.left=Node(4)\n",
    "root.left.right=Node(5)\n",
    "print(\"inorder traversal :\")\n",
    "inorder(root)\n"
   ]
  },
  {
   "cell_type": "code",
   "execution_count": 16,
   "metadata": {},
   "outputs": [
    {
     "name": "stdout",
     "output_type": "stream",
     "text": [
      "1 2 4 5 3 "
     ]
    }
   ],
   "source": [
    "preorder(root)\n"
   ]
  },
  {
   "cell_type": "code",
   "execution_count": 17,
   "metadata": {},
   "outputs": [
    {
     "name": "stdout",
     "output_type": "stream",
     "text": [
      "4 5 2 3 1 "
     ]
    }
   ],
   "source": [
    "postorder(root)"
   ]
  },
  {
   "cell_type": "code",
   "execution_count": 18,
   "metadata": {},
   "outputs": [],
   "source": [
    "# recurrence relation (best / average scenario )\n",
    "# T(n)=2T(n/2)+c\n",
    "# best/avg complexity : n \n",
    "# worst case : n\n"
   ]
  },
  {
   "cell_type": "code",
   "execution_count": 19,
   "metadata": {},
   "outputs": [],
   "source": [
    "# binary search tree\n",
    "# 1 . left node data < parent node data \n",
    "# 2->right node data > parent node data\n",
    "# worst case scenario for a balanced bst : O(log n)\n",
    "# worst case scenario for a unbalanced bst : O(n)\n",
    "# solution is to use self balancing tree \n",
    "\n"
   ]
  },
  {
   "cell_type": "code",
   "execution_count": 8,
   "metadata": {},
   "outputs": [
    {
     "name": "stdout",
     "output_type": "stream",
     "text": [
      "50 80 90 100 120 None\n"
     ]
    }
   ],
   "source": [
    "\n",
    "# Insertion in BST \n",
    "class Node:\n",
    "    def __init__(self,data):\n",
    "        self.left=None\n",
    "        self.right=None\n",
    "        self.data=data\n",
    "def insertion(root,key):\n",
    "    if root is None:\n",
    "        return Node(key)\n",
    "    else:\n",
    "        if root.data==key:\n",
    "            return root\n",
    "            # there is no repetition in bst (means same element won't be repeated in other node )\n",
    "        elif root.data<key:\n",
    "            root.right=insertion(root.right,key)\n",
    "        else:\n",
    "            root.left=insertion(root.left,key)\n",
    "    return root \n",
    "def inorder(root):\n",
    "    if root:\n",
    "    # recursive call towards the left subtree\n",
    "        inorder(root.left)\n",
    "        print(root.data,end=' ')\n",
    "\n",
    "        inorder(root.right)\n",
    "# driver code \n",
    "root=Node(100)\n",
    "root=insertion(root,80)\n",
    "root=insertion(root,120)\n",
    "root=insertion(root,50)\n",
    "root=insertion(root,90)\n",
    "print(inorder(root))\n",
    "\n"
   ]
  },
  {
   "cell_type": "code",
   "execution_count": null,
   "metadata": {},
   "outputs": [
    {
     "name": "stdout",
     "output_type": "stream",
     "text": [
      "number of unique possible bst  5\n"
     ]
    }
   ],
   "source": [
    "# interview question \n",
    "# catallan numbers \n",
    " # driver code \n",
    "def finduniquebst(n):\n",
    "    n1,n2,sum=0,0,0\n",
    "    if n==0 or n==1:\n",
    "        return 1 \n",
    "    for i in range(1,n+1):\n",
    "        n1=finduniquebst(i-1)\n",
    "        n2=finduniquebst(n-i)\n",
    "        sum=sum+n1*n2\n",
    "    return sum \n",
    "# n is the no of noded in the bst \n",
    "n=3\n",
    "result=finduniquebst(n)\n",
    "print(\"number of unique possible bst \",result)"
   ]
  },
  {
   "cell_type": "code",
   "execution_count": 2,
   "metadata": {},
   "outputs": [
    {
     "name": "stdout",
     "output_type": "stream",
     "text": [
      "50 90 100 120 "
     ]
    }
   ],
   "source": [
    "# deletion in bst \n",
    "class Node:\n",
    "    def __init__(self, data):\n",
    "        self.left = None\n",
    "        self.right = None\n",
    "        self.data = data\n",
    "\n",
    "def insertion(root, key):\n",
    "    if root is None:\n",
    "        return Node(key)\n",
    "    if key < root.data:\n",
    "        root.left = insertion(root.left, key)\n",
    "    elif key > root.data:\n",
    "        root.right = insertion(root.right, key)\n",
    "    return root\n",
    "\n",
    "def inorder(root):\n",
    "    if root:\n",
    "        inorder(root.left)\n",
    "        print(root.data, end=' ')\n",
    "        inorder(root.right)\n",
    "\n",
    "def minValBST(root):\n",
    "    current = root\n",
    "    while current.left:\n",
    "        current = current.left\n",
    "    return current\n",
    "\n",
    "def deleteNode(root, key):\n",
    "    if root is None:\n",
    "        return root\n",
    "    \n",
    "    if key < root.data:\n",
    "        root.left = deleteNode(root.left, key)\n",
    "    elif key > root.data:\n",
    "        root.right = deleteNode(root.right, key)\n",
    "    else:\n",
    "        # Node with only one child or no child\n",
    "        if root.left is None:\n",
    "            return root.right\n",
    "        elif root.right is None:\n",
    "            return root.left\n",
    "        \n",
    "        # Node with two children: Get the inorder successor\n",
    "        temp = minValBST(root.right)\n",
    "        root.data = temp.data\n",
    "        root.right = deleteNode(root.right, temp.data)\n",
    "    \n",
    "    return root\n",
    "\n",
    "# Driver code\n",
    "tree = Node(100)\n",
    "tree = insertion(tree, 80)\n",
    "tree = insertion(tree, 120)\n",
    "tree = insertion(tree, 50)\n",
    "tree = insertion(tree, 90)\n",
    "\n",
    "tree = deleteNode(tree, 80)  # Deleting node with value 80\n",
    "inorder(tree)  # Printing inorder traversal after deletion\n"
   ]
  },
  {
   "cell_type": "code",
   "execution_count": null,
   "metadata": {},
   "outputs": [],
   "source": [
    "# deletion in binary search tree \n",
    "\n"
   ]
  },
  {
   "cell_type": "code",
   "execution_count": null,
   "metadata": {},
   "outputs": [],
   "source": []
  }
 ],
 "metadata": {
  "kernelspec": {
   "display_name": "base",
   "language": "python",
   "name": "python3"
  },
  "language_info": {
   "codemirror_mode": {
    "name": "ipython",
    "version": 3
   },
   "file_extension": ".py",
   "mimetype": "text/x-python",
   "name": "python",
   "nbconvert_exporter": "python",
   "pygments_lexer": "ipython3",
   "version": "3.12.4"
  }
 },
 "nbformat": 4,
 "nbformat_minor": 2
}
