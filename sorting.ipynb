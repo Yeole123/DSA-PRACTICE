{
 "cells": [
  {
   "cell_type": "code",
   "execution_count": null,
   "metadata": {},
   "outputs": [],
   "source": [
    "# bubble sort \n",
    "# if no of elements are 7 then number of passes will be 6 \n",
    "# comparisons: (n-1)+(n-2)+(n-3)+....+3+2+1=n^2 \n",
    "# time complexity for comparisons: n^2\n",
    "# time complexity for swaps : n^2\n",
    "# time complexity for bubble sort : n^2 +n^2 =n^2\n",
    "# space complexity for bubble sort : In bubble sort no new memory is used he\n",
    "# hence the space complexity is constant O(1)\n"
   ]
  },
  {
   "cell_type": "code",
   "execution_count": null,
   "metadata": {},
   "outputs": [
    {
     "name": "stdout",
     "output_type": "stream",
     "text": [
      "Sorted array: [1, 2, 3, 4]\n"
     ]
    }
   ],
   "source": [
    "def bubblesort(arr):\n",
    "    n = len(arr)\n",
    "    for i in range(n):\n",
    "        for j in range(n - i - 1):\n",
    "            if arr[j] > arr[j + 1]:\n",
    "                # swapping \n",
    "                temp = arr[j]\n",
    "                arr[j] = arr[j + 1]\n",
    "                arr[j + 1] = temp\n",
    "    return arr\n",
    "arr = [4, 3, 2, 1]\n",
    "result = bubblesort(arr)\n",
    "print(\"Sorted array:\", result)\n"
   ]
  },
  {
   "cell_type": "code",
   "execution_count": 15,
   "metadata": {},
   "outputs": [
    {
     "data": {
      "text/plain": [
       "[1, 2, 3]"
      ]
     },
     "execution_count": 15,
     "metadata": {},
     "output_type": "execute_result"
    }
   ],
   "source": [
    "# selection sort : just assume min=arr[0] then compare the min value with other elements. The min will be updated when it finds a smaller element \n",
    "# the pass ends when min is compared with all other elements of array \n",
    "# during the next pass assume min=arr[1] rest process is similar to first pass \n",
    "def selectionsort(arr):\n",
    "    n=len(arr)\n",
    "    for i in range(n):\n",
    "        min_idx=i\n",
    "        for j in range(i+1,n):    \n",
    "            if arr[min_idx]>arr[j]:\n",
    "                min_idx=j\n",
    "        temp=arr[i]\n",
    "        arr[i]=arr[min_idx]\n",
    "        arr[min_idx]=temp\n",
    "    return arr\n",
    "arr=[3,2,1]\n",
    "selectionsort(arr)\n"
   ]
  },
  {
   "cell_type": "code",
   "execution_count": 16,
   "metadata": {},
   "outputs": [],
   "source": [
    "# during every pass only one swap is required \n",
    "# (n-1)th pass -> 1 swap \n",
    "# 1 pass -> 1 swap \n",
    "# total (n-1 )swaps -> O(n) swaps \n",
    "# no of swaps of selection sort < no of swaps of bubble sort \n",
    "# no of comparisons = (n-1)+(n-2)....+3+2+1=O(n^2)\n",
    "# time complexity =swaps + comparisons = O(n^2)+O(n)=O(n^2)"
   ]
  },
  {
   "cell_type": "code",
   "execution_count": null,
   "metadata": {},
   "outputs": [],
   "source": [
    "# insertion sort: \n",
    "# best case : swaps +comparisons: 0+(n-1)=O(n)\n",
    "# worst case: if array is in descending order \n",
    "# time complexity : swaps +comparisons   = O(n^2)\n",
    "# use the insertion sort when the array is almost in ascending order because there will be almost zero swaps "
   ]
  },
  {
   "cell_type": "code",
   "execution_count": 17,
   "metadata": {},
   "outputs": [
    {
     "name": "stdout",
     "output_type": "stream",
     "text": [
      "sorte array  [1, 3, 4, 5, 9]\n"
     ]
    }
   ],
   "source": [
    "# insertion sort \n",
    "def insertionsort(arr):\n",
    "    for i in range(1,len(arr)):\n",
    "        key=arr[i]\n",
    "        j=i-1\n",
    "        while j>=0 and key<arr[j]:\n",
    "            arr[j+1]=arr[j]\n",
    "            j=j-1\n",
    "        arr[j+1]=key \n",
    "    return arr \n",
    "arr=[9,5,1,4,3]\n",
    "result=insertionsort(arr)\n",
    "print(\"sorte array \",result)  "
   ]
  },
  {
   "cell_type": "code",
   "execution_count": 9,
   "metadata": {},
   "outputs": [
    {
     "data": {
      "text/plain": [
       "False"
      ]
     },
     "execution_count": 9,
     "metadata": {},
     "output_type": "execute_result"
    }
   ],
   "source": [
    "# check whether the array is sorted or not \n",
    "def is_sorted (arr):\n",
    "    sorted=True \n",
    "    for i in range(len(arr)-1):\n",
    "        if arr[i]>arr[i+1]:\n",
    "            sorted =False \n",
    "    return sorted \n",
    "arr=[1,2,3,4,6,2]\n",
    "is_sorted(arr)"
   ]
  },
  {
   "cell_type": "code",
   "execution_count": 8,
   "metadata": {},
   "outputs": [
    {
     "name": "stdout",
     "output_type": "stream",
     "text": [
      "[2, 1, 3]\n",
      "[3, 1, 2]\n",
      "[1, 2, 3]\n",
      "[1, 2, 3]\n"
     ]
    }
   ],
   "source": [
    "# monkey sort \n",
    "import random \n",
    "a=[1,2,3,4]\n",
    "random.shuffle(a)\n",
    "def monkey_sort(arr):\n",
    "    while not is_sorted(arr):\n",
    "        random.shuffle(arr)\n",
    "        print(arr)\n",
    "    print(arr)\n",
    "monkey_sort([2,3,1])"
   ]
  },
  {
   "cell_type": "code",
   "execution_count": 10,
   "metadata": {},
   "outputs": [],
   "source": [
    "# stable vs unstable sort \n",
    "# stable : relative order of the elements should be maintained \n",
    "# unstable : relative order of the elements is not maintained \n",
    "# adaptive : technique is adaptive if it takes advantage of it's input \n",
    "# unadaptive : It doesn't take advantage of the input \n",
    "\n"
   ]
  },
  {
   "cell_type": "code",
   "execution_count": null,
   "metadata": {},
   "outputs": [
    {
     "data": {
      "text/plain": [
       "[1, 2, 3]"
      ]
     },
     "execution_count": 12,
     "metadata": {},
     "output_type": "execute_result"
    }
   ],
   "source": [
    "# bubble sort (adaptive variation )\n",
    "def bubble_sort(arr):\n",
    "    n=len(arr)\n",
    "    for i in range(n):\n",
    "        # flag  is used to check if swapped happened in first pass\n",
    "        flag=0\n",
    "        for j in range(n-1-i):\n",
    "            if arr[j]>arr[j+1]:\n",
    "                temp=arr[j]\n",
    "                arr[j]=arr[j+1]\n",
    "                arr[j+1]=temp\n",
    "                # flag value will be changed if swapping occurs \n",
    "                flag=1\n",
    "        if flag==0:\n",
    "            break \n",
    "    return arr\n",
    "# driver code \n",
    "arr=[1,3,2]\n",
    "bubble_sort(arr)"
   ]
  },
  {
   "cell_type": "code",
   "execution_count": null,
   "metadata": {},
   "outputs": [],
   "source": []
  }
 ],
 "metadata": {
  "kernelspec": {
   "display_name": "base",
   "language": "python",
   "name": "python3"
  },
  "language_info": {
   "codemirror_mode": {
    "name": "ipython",
    "version": 3
   },
   "file_extension": ".py",
   "mimetype": "text/x-python",
   "name": "python",
   "nbconvert_exporter": "python",
   "pygments_lexer": "ipython3",
   "version": "3.12.4"
  }
 },
 "nbformat": 4,
 "nbformat_minor": 2
}
