{
 "cells": [
  {
   "cell_type": "code",
   "execution_count": null,
   "metadata": {},
   "outputs": [],
   "source": [
    "# bubble sort \n",
    "# if no of elements are 7 then number of passes will be 6 \n",
    "# comparisons: (n-1)+(n-2)+(n-3)+....+3+2+1=n^2 \n",
    "# time complexity for comparisons: n^2\n",
    "# time complexity for swaps : n^2\n",
    "# time complexity for bubble sort : n^2 +n^2 =n^2\n",
    "\n"
   ]
  },
  {
   "cell_type": "code",
   "execution_count": null,
   "metadata": {},
   "outputs": [
    {
     "name": "stdout",
     "output_type": "stream",
     "text": [
      "Sorted array: [1, 2, 3, 4]\n"
     ]
    }
   ],
   "source": [
    "def bubblesort(arr):\n",
    "    n = len(arr)\n",
    "    for i in range(n):\n",
    "        for j in range(n - i - 1):\n",
    "            if arr[j] > arr[j + 1]:\n",
    "                # swapping \n",
    "                temp = arr[j]\n",
    "                arr[j] = arr[j + 1]\n",
    "                arr[j + 1] = temp\n",
    "    return arr\n",
    "arr = [4, 3, 2, 1]\n",
    "result = bubblesort(arr)\n",
    "print(\"Sorted array:\", result)\n"
   ]
  },
  {
   "cell_type": "code",
   "execution_count": 15,
   "metadata": {},
   "outputs": [
    {
     "data": {
      "text/plain": [
       "[1, 2, 3]"
      ]
     },
     "execution_count": 15,
     "metadata": {},
     "output_type": "execute_result"
    }
   ],
   "source": [
    "# selection sort : just assume min=arr[0] then compare the min value with other elements. The min will be updated when it finds a smaller element \n",
    "# the pass ends when min is compared with all other elements of array \n",
    "# during the next pass assume min=arr[1] rest process is similar to first pass \n",
    "def selectionsort(arr):\n",
    "    n=len(arr)\n",
    "    for i in range(n):\n",
    "        min_idx=i\n",
    "        for j in range(i+1,n):    \n",
    "            if arr[min_idx]>arr[j]:\n",
    "                min_idx=j\n",
    "        temp=arr[i]\n",
    "        arr[i]=arr[min_idx]\n",
    "        arr[min_idx]=temp\n",
    "    return arr\n",
    "arr=[3,2,1]\n",
    "selectionsort(arr)\n"
   ]
  },
  {
   "cell_type": "code",
   "execution_count": 16,
   "metadata": {},
   "outputs": [],
   "source": [
    "# during every pass only one swap is required \n",
    "# (n-1)th pass -> 1 swap \n",
    "# 1 pass -> 1 swap \n",
    "# total (n-1 )swaps -> O(n) swaps \n",
    "# no of swaps of selection sort < no of swaps of bubble sort \n",
    "# no of comparisons = (n-1)+(n-2)....+3+2+1=O(n^2)\n",
    "# time complexity =swaps + comparisons = O(n^2)+O(n)=O(n^2)"
   ]
  },
  {
   "cell_type": "code",
   "execution_count": null,
   "metadata": {},
   "outputs": [],
   "source": [
    "# insertion sort: \n",
    "# best case : swaps +comparisons: 0+(n-1)=O(n)\n",
    "# worst case: if array is in descending order \n",
    "# time complexity : swaps +comparisons   = O(n^2)\n",
    "# use the insertion sort when the array is almost in ascending order because there will be almost zero swaps "
   ]
  },
  {
   "cell_type": "code",
   "execution_count": 17,
   "metadata": {},
   "outputs": [
    {
     "name": "stdout",
     "output_type": "stream",
     "text": [
      "sorte array  [1, 3, 4, 5, 9]\n"
     ]
    }
   ],
   "source": [
    "# insertion sort \n",
    "def insertionsort(arr):\n",
    "    for i in range(1,len(arr)):\n",
    "        key=arr[i]\n",
    "        j=i-1\n",
    "        while j>=0 and key<arr[j]:\n",
    "            arr[j+1]=arr[j]\n",
    "            j=j-1\n",
    "        arr[j+1]=key \n",
    "    return arr \n",
    "arr=[9,5,1,4,3]\n",
    "result=insertionsort(arr)\n",
    "print(\"sorte array \",result)  "
   ]
  },
  {
   "cell_type": "code",
   "execution_count": null,
   "metadata": {},
   "outputs": [
    {
     "data": {
      "text/plain": [
       "[1, 2, 3]"
      ]
     },
     "execution_count": 2,
     "metadata": {},
     "output_type": "execute_result"
    }
   ],
   "source": []
  },
  {
   "cell_type": "code",
   "execution_count": null,
   "metadata": {},
   "outputs": [
    {
     "data": {
      "text/plain": [
       "[1, 2, 3]"
      ]
     },
     "execution_count": 4,
     "metadata": {},
     "output_type": "execute_result"
    }
   ],
   "source": []
  },
  {
   "cell_type": "code",
   "execution_count": null,
   "metadata": {},
   "outputs": [
    {
     "data": {
      "text/plain": [
       "[1, 2, 3]"
      ]
     },
     "execution_count": 5,
     "metadata": {},
     "output_type": "execute_result"
    }
   ],
   "source": [
    "\n",
    "       \n",
    "        \n"
   ]
  },
  {
   "cell_type": "code",
   "execution_count": null,
   "metadata": {},
   "outputs": [],
   "source": [
    "\n",
    "\n",
    "\n",
    "    \n",
    "\n"
   ]
  }
 ],
 "metadata": {
  "kernelspec": {
   "display_name": "base",
   "language": "python",
   "name": "python3"
  },
  "language_info": {
   "codemirror_mode": {
    "name": "ipython",
    "version": 3
   },
   "file_extension": ".py",
   "mimetype": "text/x-python",
   "name": "python",
   "nbconvert_exporter": "python",
   "pygments_lexer": "ipython3",
   "version": "3.12.4"
  }
 },
 "nbformat": 4,
 "nbformat_minor": 2
}
