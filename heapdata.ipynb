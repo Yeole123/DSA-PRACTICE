{
 "cells": [
  {
   "cell_type": "code",
   "execution_count": null,
   "metadata": {},
   "outputs": [],
   "source": [
    "# Heap data structure \n",
    "# 1 it follows a complete binary tree structure \n",
    "# 2 tree : made of root , internal and leaf nodes \n",
    "# binary tree : child nodes ->0,1,2. \n",
    "# every node in binary tree has atmost 2 child nodes \n",
    "# full binary tree : every node has 2 node apart from the leaf node \n",
    "# complete binary tree :\n",
    "# condition 1 -> after completion of first level then only move towards the filling of second  level \n",
    "# condition 2-> after completion of left node then only move to completion of right side node \n",
    "# almost complete binary tree : \n",
    "# properties of binary search tree :\n",
    "# n=2^k-1 \n",
    "# 2^k=n+1\n",
    "# k=log2(n+1)\n",
    "# no of leaf node = n/2 (take upper bound )\n",
    "# no of non leaf node =n/2 (take lower bound)"
   ]
  },
  {
   "cell_type": "code",
   "execution_count": null,
   "metadata": {},
   "outputs": [],
   "source": [
    "# heap -> 1 minheap tree \n",
    "#         2 maxheap tree \n",
    "#  heap-> complete binary tree \n",
    "#  heap follows the indexing \n",
    "# leaf node have the formula 2*i+2 and left node can be found using 2*i +1\n",
    "# skewed tree :this leads to a lot of storage wastage \n",
    "# array is better for storage purpose "
   ]
  },
  {
   "cell_type": "code",
   "execution_count": null,
   "metadata": {},
   "outputs": [],
   "source": [
    "# minheap :  in minheap parent node < child node\n",
    "#  In min heap the smallest elemene -> root node \n",
    "# maxheap : the parent node > child node \n",
    "#  In max heap the parent node is larger than child node \n",
    "# it will take constant  time ocmplexity to find the smallest element in minheap because it is present at root node \n",
    "# similar for biggest element in maxheap \n"
   ]
  },
  {
   "cell_type": "code",
   "execution_count": null,
   "metadata": {},
   "outputs": [],
   "source": [
    "# time complexity for insetion in minheap /maxheap : logn"
   ]
  },
  {
   "cell_type": "code",
   "execution_count": null,
   "metadata": {},
   "outputs": [],
   "source": []
  }
 ],
 "metadata": {
  "kernelspec": {
   "display_name": "base",
   "language": "python",
   "name": "python3"
  },
  "language_info": {
   "name": "python",
   "version": "3.12.4"
  }
 },
 "nbformat": 4,
 "nbformat_minor": 2
}
