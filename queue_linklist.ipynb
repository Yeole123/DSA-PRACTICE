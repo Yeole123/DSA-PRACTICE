{
 "cells": [
  {
   "cell_type": "code",
   "execution_count": null,
   "metadata": {},
   "outputs": [],
   "source": [
    "class Node:\n",
    "    def __init__(self,value):\n",
    "        self.data=value\n",
    "        self.next=None\n",
    "class Queue:\n",
    "    def __init__(self):\n",
    "        self.front=None\n",
    "        self.rear=None\n",
    "    def enqueue(self,value):\n",
    "        new_node=Node(value)\n",
    "        if self.rear==None:\n",
    "            self.front=new_node\n",
    "            self.rear=self.front\n",
    "        else:\n",
    "            self.rear.next=new_node \n",
    "            self.rear=new_node \n",
    "    def is_empty(self):\n",
    "        return self.front ==None\n",
    "    def size(self):\n",
    "         temp=self.front\n",
    "         counter=0\n",
    "         while temp!= None:\n",
    "           counter+=1\n",
    "           temp=temp.next\n",
    "         return counter\n",
    "    def dequeue(self):\n",
    "        if self.front==None:\n",
    "            return \"empty\"\n",
    "        else:\n",
    "            self.front=self.front.next\n",
    "    def traverse(self):\n",
    "        temp=self.front\n",
    "        while temp!= None:\n",
    "            print(temp.data,end=' ')\n",
    "            temp=temp.next\n",
    "    def front_item(self):\n",
    "        if self.front ==None:\n",
    "            return \"empty \"\n",
    "        else:\n",
    "            return  self.front.data \n",
    "    def rear_item(self):\n",
    "        if self.rear ==None:\n",
    "            return \"empty \"\n",
    "        else:\n",
    "            return  self.rear.data \n",
    "    \n"
   ]
  },
  {
   "cell_type": "code",
   "execution_count": null,
   "metadata": {},
   "outputs": [],
   "source": [
    "# task : use two stacks to show similar behaivour to queue\n",
    "\n"
   ]
  }
 ],
 "metadata": {
  "kernelspec": {
   "display_name": "base",
   "language": "python",
   "name": "python3"
  },
  "language_info": {
   "codemirror_mode": {
    "name": "ipython",
    "version": 3
   },
   "file_extension": ".py",
   "mimetype": "text/x-python",
   "name": "python",
   "nbconvert_exporter": "python",
   "pygments_lexer": "ipython3",
   "version": "3.12.4"
  }
 },
 "nbformat": 4,
 "nbformat_minor": 2
}
