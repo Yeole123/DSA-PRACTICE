{
 "cells": [
  {
   "cell_type": "code",
   "execution_count": 18,
   "metadata": {},
   "outputs": [],
   "source": [
    "class Stack:\n",
    "    def __init__(self,size):\n",
    "      self.size=size\n",
    "      # making a fixed sized array \n",
    "      self.stack=[None]*self.size  \n",
    "      self.top=-1\n",
    "    def push(self,value):\n",
    "       if self.top == self.size-1:\n",
    "          return \"overflow \"\n",
    "       else:\n",
    "          self.top+=1\n",
    "          self.stack[self.top]=value\n",
    "    def pop(self):\n",
    "       if self.top==-1:\n",
    "            return \"empty\"\n",
    "       else:\n",
    "          data=self.stack[self.top]\n",
    "          self.top-=1\n",
    "          print(data)\n",
    "    def traverse(self):\n",
    "       for i in range(self.top +1):\n",
    "          print(self.stack[i],end=' ')"
   ]
  },
  {
   "cell_type": "code",
   "execution_count": 19,
   "metadata": {},
   "outputs": [
    {
     "name": "stdout",
     "output_type": "stream",
     "text": [
      "4 3 2 "
     ]
    }
   ],
   "source": [
    "s=Stack(3)\n",
    "s.stack\n",
    "s.push(4)\n",
    "s.push(3)\n",
    "s.push(2)\n",
    "s.stack\n",
    "s.push(1)# returns overflow \n",
    "s.traverse()\n"
   ]
  },
  {
   "cell_type": "code",
   "execution_count": null,
   "metadata": {},
   "outputs": [],
   "source": []
  },
  {
   "cell_type": "code",
   "execution_count": null,
   "metadata": {},
   "outputs": [],
   "source": []
  },
  {
   "cell_type": "code",
   "execution_count": null,
   "metadata": {},
   "outputs": [],
   "source": []
  }
 ],
 "metadata": {
  "kernelspec": {
   "display_name": "base",
   "language": "python",
   "name": "python3"
  },
  "language_info": {
   "codemirror_mode": {
    "name": "ipython",
    "version": 3
   },
   "file_extension": ".py",
   "mimetype": "text/x-python",
   "name": "python",
   "nbconvert_exporter": "python",
   "pygments_lexer": "ipython3",
   "version": "3.12.4"
  }
 },
 "nbformat": 4,
 "nbformat_minor": 2
}
