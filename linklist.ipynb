{
 "cells": [
  {
   "cell_type": "code",
   "execution_count": 2,
   "metadata": {},
   "outputs": [],
   "source": [
    "class Node:\n",
    "    def __init__(self,value):\n",
    "        self.data=value\n",
    "        self.next=None\n",
    "\n"
   ]
  },
  {
   "cell_type": "code",
   "execution_count": null,
   "metadata": {},
   "outputs": [],
   "source": []
  },
  {
   "cell_type": "code",
   "execution_count": 3,
   "metadata": {},
   "outputs": [
    {
     "name": "stdout",
     "output_type": "stream",
     "text": [
      "1\n",
      "None\n"
     ]
    }
   ],
   "source": [
    "a=Node(1)\n",
    "print(a.data)# returns the data\n",
    "print(a.next)# returns the address next is pointing"
   ]
  },
  {
   "cell_type": "code",
   "execution_count": 4,
   "metadata": {},
   "outputs": [
    {
     "name": "stdout",
     "output_type": "stream",
     "text": [
      "None\n"
     ]
    }
   ],
   "source": [
    "b=Node(2)\n",
    "c=Node(3)\n",
    "print(c.next)\n",
    "# this is not a linklist becaus a, b and c are not linked "
   ]
  },
  {
   "cell_type": "code",
   "execution_count": 5,
   "metadata": {},
   "outputs": [
    {
     "name": "stdout",
     "output_type": "stream",
     "text": [
      "2078185148576\n",
      "2078185366992\n",
      "2078188083472\n"
     ]
    }
   ],
   "source": [
    "# how to  manually creating the link ?\n",
    "print(id(a))#2566408152192 address of a \n",
    "print(id(b))#2566406882224 address of b \n",
    "print(id(c))#2566406893168 address of c "
   ]
  },
  {
   "cell_type": "code",
   "execution_count": 6,
   "metadata": {},
   "outputs": [],
   "source": [
    "a.next=b\n",
    "b.next=c"
   ]
  },
  {
   "cell_type": "code",
   "execution_count": 7,
   "metadata": {},
   "outputs": [
    {
     "name": "stdout",
     "output_type": "stream",
     "text": [
      "<__main__.Node object at 0x000001E3DD8025D0>\n",
      "2566371955904\n",
      "<__main__.Node object at 0x000001E3DDA99910>\n",
      "2566392427584\n"
     ]
    }
   ],
   "source": [
    "print(a.next)\n",
    "print(0x0000025587B054C0)# now we can see that the address of b is stored in the next of a variable \n",
    "print(b.next)\n",
    "print(0x0000025588E8B440)# now we can see that the address of c is stored in the next of b variable "
   ]
  },
  {
   "cell_type": "code",
   "execution_count": 4,
   "metadata": {},
   "outputs": [],
   "source": [
    "class Node:\n",
    "    def __init__(self,value):\n",
    "        self.data=value\n",
    "        self.next=None\n"
   ]
  },
  {
   "cell_type": "code",
   "execution_count": null,
   "metadata": {},
   "outputs": [],
   "source": [
    "class linkedlist:\n",
    "    def __init__(self):\n",
    "        # empty linked list contains head =None and no of nodes =n=0\n",
    "        self.head=None\n",
    "        self.n=0\n",
    "    def __len__(self):\n",
    "        \"\"\"len function returns the no of nodes \"\"\"\n",
    "        return self.n# n stores the count of the nodes \n",
    "    def insert(self,value):\n",
    "        new_node=Node(value)\n",
    "        # create connection \n",
    "        new_node.next=self.head\n",
    "        # reassign head towards new_node \n",
    "        self.head=new_node\n",
    "        self.n=self.n+1\n",
    "    def traverse(self):\n",
    "        curr=self.head\n",
    "        while curr!=None:\n",
    "           result=result+str(curr.data)+'->'\n",
    "           curr=curr.next\n",
    "        return result[::-2]\n",
    "    def append(self,value):\n",
    "        # if the list is empty \n",
    "        # make the node as the head \n",
    "        new_node=Node(value)\n",
    "        if self.head==None:\n",
    "            self.head=new_node\n",
    "            self.n=self.n+1\n",
    "        # logic for already created list\n",
    "        curr=self.head\n",
    "        while curr.next!=None:\n",
    "            curr=curr.next\n",
    "        curr.next=new_node\n",
    "        self.n=self.n+1\n",
    "    def insert_after(self,value):\n",
    "        new_node=Node(value)\n",
    "        curr=self.head\n",
    "        # we have to stop at the node \n",
    "        # but if we had to insert one node after : while curr.next!=None\n",
    "        while curr!=None:\n",
    "            if curr.data==self.after:\n",
    "                break \n",
    "            curr=curr.next\n",
    "        if curr!=None:\n",
    "            new_node.next=curr.next\n",
    "            curr.next=new_node\n",
    "            self.n=self.n+1\n",
    "            print(curr.data)\n",
    "        else:\n",
    "            return 'element not found'\n",
    "    def empty_ll(self):\n",
    "        self.head=None\n",
    "        self.n=0\n",
    "    def delete_head(self):\n",
    "        if self.head==None:\n",
    "            return \"empty linklist\"\n",
    "        self.head=self.head.next\n",
    "    def pop(self):\n",
    "        curr=self.head\n",
    "        while curr.next.next!=None:\n",
    "            curr=curr.next\n",
    "        curr.next=None\n",
    "        self.n=self.n-1"
   ]
  },
  {
   "cell_type": "code",
   "execution_count": 29,
   "metadata": {},
   "outputs": [
    {
     "data": {
      "text/plain": [
       "4"
      ]
     },
     "execution_count": 29,
     "metadata": {},
     "output_type": "execute_result"
    }
   ],
   "source": [
    "obj=linkedlist()# creating the object of linked list \n",
    "# using the len magic function to get the current length \n",
    "len(obj)# returns zero \n",
    "obj.insert(1)\n",
    "obj.insert(2)\n",
    "obj.insert(3)\n",
    "obj.insert(4)\n",
    "len(obj)# returns four "
   ]
  },
  {
   "cell_type": "code",
   "execution_count": 30,
   "metadata": {},
   "outputs": [
    {
     "name": "stdout",
     "output_type": "stream",
     "text": [
      "4\n",
      "3\n",
      "2\n",
      "1\n"
     ]
    }
   ],
   "source": [
    "# traverse\n",
    "obj.traverse()\n",
    "# expected : 1,2,3,4 \n",
    "# actual : 4,3,2,1 \n",
    "# reason : the insertion was happening using the head hence the new elements were being added earlier "
   ]
  },
  {
   "cell_type": "code",
   "execution_count": 31,
   "metadata": {},
   "outputs": [],
   "source": [
    "# inserting from the tail \n",
    "# logic : traverse till the  last second node  and then insert \n",
    "# while current.next!=None :stops at last second \n",
    "# while current.next.next!=None : stops at last third \n",
    "# while current!=None : stops at last node "
   ]
  },
  {
   "cell_type": "code",
   "execution_count": 32,
   "metadata": {},
   "outputs": [],
   "source": [
    "obj.append(5)"
   ]
  },
  {
   "cell_type": "code",
   "execution_count": 1,
   "metadata": {},
   "outputs": [
    {
     "ename": "NameError",
     "evalue": "name 'obj' is not defined",
     "output_type": "error",
     "traceback": [
      "\u001b[1;31m---------------------------------------------------------------------------\u001b[0m",
      "\u001b[1;31mNameError\u001b[0m                                 Traceback (most recent call last)",
      "Cell \u001b[1;32mIn[1], line 1\u001b[0m\n\u001b[1;32m----> 1\u001b[0m obj\u001b[38;5;241m.\u001b[39mtraverse()\n",
      "\u001b[1;31mNameError\u001b[0m: name 'obj' is not defined"
     ]
    }
   ],
   "source": [
    "obj.traverse()# 5 is appended in the end "
   ]
  },
  {
   "cell_type": "code",
   "execution_count": null,
   "metadata": {},
   "outputs": [],
   "source": [
    "class Node:\n",
    "    def __init__(self,value):\n",
    "        self.data=value\n",
    "        self.next=None\n",
    "class linkedlist:\n",
    "    def __init__(self):\n",
    "        self.head=None\n",
    "        self.n=0\n",
    "    def __len__(self):\n",
    "        return self.n \n",
    "    def insert(self,value):\n",
    "        new_node=Node(value)\n",
    "        new_node.next=self.head\n",
    "        self.head=new_node\n",
    "        self.n+=1\n",
    "    def traverse(self):\n",
    "        result=\"\"\n",
    "        curr=self.head\n",
    "        while curr is not None:\n",
    "           result+=str(curr.data)+'->'\n",
    "           curr=curr.next\n",
    "        return result[:-2] if result else\"empty list\"\n",
    "    def append(self,value):\n",
    "        new_node=Node(value)\n",
    "        \n",
    "        if self.head==None:\n",
    "            self.head=new_node\n",
    "            return\n",
    "        else:\n",
    "            curr=self.head\n",
    "            while curr.next!=None:\n",
    "                curr=curr.next\n",
    "            curr.next=new_node\n",
    "            self.n=self.n+1\n",
    "    def insert_after(self,after,value):\n",
    "        curr=self.head\n",
    "        while curr is not None:\n",
    "            if curr.data==after:\n",
    "                new_node=Node(value)\n",
    "                new_node.next=curr.next\n",
    "                curr.next=new_node\n",
    "                self.n+=1\n",
    "                return\n",
    "            curr=curr.next\n",
    "        return \"not found \"\n",
    "    def clear(self):\n",
    "        self.head=None\n",
    "        self.n=0\n",
    "    def delete_head(self):\n",
    "        self.head=self.head.next\n",
    "        if self.head == None:\n",
    "            return \"can't delete from empty list \"\n",
    "        self.n-=1\n",
    "    def pop(self):\n",
    "       curr=self.head\n",
    "       if self.head is None:\n",
    "           return \"empty linklist \"\n",
    "       elif curr.next is None:\n",
    "           return self.delete_head()\n",
    "       else:\n",
    "            while curr.next.next is not None:\n",
    "                curr=curr.next\n",
    "            curr.next=None\n",
    "            self.n-=1\n",
    "    def remove(self,value):\n",
    "        if self.head.data==value:\n",
    "            self.delete_head()\n",
    "            return\n",
    "        if self.head==None:\n",
    "            return \"empty ll\"\n",
    "        curr=self.head\n",
    "        while curr.next is not None:\n",
    "            if curr.next.data==value:\n",
    "                curr.next=curr.next.next\n",
    "                self.n-=1\n",
    "                return \n",
    "            curr=curr.next\n",
    "    def search(self,value):\n",
    "        curr=self.head\n",
    "        pos=0\n",
    "        while curr is not None:\n",
    "            if curr.data==value:\n",
    "                return pos\n",
    "            curr=curr.next\n",
    "            pos+=1\n",
    "        return \"element not found \"\n",
    "                   \n",
    "    def __getitem__(self,index):\n",
    "        curr=self.head\n",
    "        pos=0\n",
    "        while curr is not None:\n",
    "            if pos==index:\n",
    "                return curr.data\n",
    "            curr=curr.next\n",
    "            pos+=1\n",
    "        return \"index error \"\n",
    "           \n",
    "        "
   ]
  },
  {
   "cell_type": "code",
   "execution_count": 152,
   "metadata": {},
   "outputs": [],
   "source": [
    "obj=linkedlist()\n"
   ]
  },
  {
   "cell_type": "code",
   "execution_count": 153,
   "metadata": {},
   "outputs": [],
   "source": [
    "obj.insert(1)\n",
    "obj.insert(2)\n",
    "obj.insert(3)\n",
    "obj.insert(4)"
   ]
  },
  {
   "cell_type": "code",
   "execution_count": 159,
   "metadata": {},
   "outputs": [
    {
     "name": "stdout",
     "output_type": "stream",
     "text": [
      "4\n"
     ]
    }
   ],
   "source": [
    "print(obj.traverse())\n"
   ]
  },
  {
   "cell_type": "code",
   "execution_count": 2,
   "metadata": {},
   "outputs": [
    {
     "ename": "NameError",
     "evalue": "name 'obj' is not defined",
     "output_type": "error",
     "traceback": [
      "\u001b[1;31m---------------------------------------------------------------------------\u001b[0m",
      "\u001b[1;31mNameError\u001b[0m                                 Traceback (most recent call last)",
      "Cell \u001b[1;32mIn[2], line 1\u001b[0m\n\u001b[1;32m----> 1\u001b[0m obj\u001b[38;5;241m.\u001b[39mpop()\n",
      "\u001b[1;31mNameError\u001b[0m: name 'obj' is not defined"
     ]
    }
   ],
   "source": [
    "obj.pop()"
   ]
  },
  {
   "cell_type": "code",
   "execution_count": null,
   "metadata": {},
   "outputs": [],
   "source": [
    "class Node:\n",
    "    def __init__(self,value):\n",
    "        self.value=value\n",
    "        self.next=0\n",
    "class Linkedlist:\n",
    "    def __init__(self):\n",
    "        self.head=None\n",
    "        self.n=0\n",
    "    def __len__(self):\n",
    "        return self.n\n",
    "    def insert(self,value):\n",
    "        new_node=Node(value)\n",
    "        new_node.next=self.head\n",
    "        self.head=new_node\n",
    "        self.n+=1\n",
    "    def traverse(self):\n",
    "        result=''\n",
    "        curr=self.head\n",
    "        while curr is not None:\n",
    "            result=result+str(curr.data)+'->'\n",
    "            curr=curr.next\n",
    "        return result[:-2]if result else \"empty list\"\n",
    "    def append(self,value):\n",
    "        new_node=Node(value)\n",
    "        # if the ll is empty \n",
    "        if self.head ==None:\n",
    "            self.head=new_node\n",
    "            return \n",
    "        curr=self.head\n",
    "        while curr.next is not None:\n",
    "            curr=curr.next\n",
    "        curr.next=new_node   \n",
    "        self.n+=1\n",
    "    def insert_after(self,after,value):\n",
    "        curr=self.head\n",
    "        while curr is not None:\n",
    "            if curr.data==after:\n",
    "                new_node=Linkedlist(value)\n",
    "                new_node.next=curr.next\n",
    "                curr.next=new_node\n",
    "                self.n+=1\n",
    "                return \n",
    "            curr=curr.next\n",
    "        return \"element not found \"\n",
    "    def clear(self):\n",
    "        self.head=None\n",
    "        self.n=0\n",
    "    def pop(self):\n",
    "        if self.head==None:\n",
    "            return \"empty list\"\n",
    "        elif self.head.next==None:\n",
    "           self.head=None\n",
    "        else:\n",
    "            curr=self.head\n",
    "            while curr.next.next is not None:\n",
    "                curr=curr.next\n",
    "            curr.next=None\n",
    "            self.n-=1\n",
    "    def delete_head(self):\n",
    "        if self.head==None:\n",
    "            return \"cant delete from empty list \"\n",
    "    \n",
    "        self.head=self.head.next\n",
    "        self.n-=1        \n",
    "    \n",
    "    def remove(self,item):\n",
    "        if self.head==None:\n",
    "            return \"can't remove from empty list\"\n",
    "        if self.head.value==item:\n",
    "            self.head=None\n",
    "        \n",
    "    def search(self,value):\n",
    "        curr=self.head\n",
    "        pos=0\n",
    "        while curr.next is not None:\n",
    "            if curr.data==value:\n",
    "                return pos \n",
    "            curr=curr.next\n",
    "            pos+=1\n",
    "        return \"element is not found \"\n",
    "    def replace_max(self,value):\n",
    "        temp=self.head\n",
    "        max=temp\n",
    "        while temp!=None:\n",
    "            if temp.data>max.data:\n",
    "                max=temp\n",
    "            temp=temp.next\n",
    "        max.data=value\n",
    "    def sum_odd_nodes(self):\n",
    "        temp=self.head\n",
    "        counter= 0\n",
    "        result=0\n",
    "        while temp!=0:\n",
    "            if counter%2!=0:\n",
    "                result=result+temp.data\n",
    "            counter=counter+1\n",
    "            temp=temp.next\n",
    "        print(result)   \n",
    "    def reverse_linklist(self):\n",
    "        \"\"\"inplace reversal : which means that we can't create new ll\"\"\"\n",
    "        prev_node=None\n",
    "        curr_node=self.head\n",
    "        while curr_node is not None:\n",
    "            next_node=curr_node.next\n",
    "            curr_node.next=prev_node\n",
    "            prev_node=curr_node\n",
    "            curr_node=curr_node.next\n",
    "        self.head=prev_node\n"
   ]
  },
  {
   "cell_type": "code",
   "execution_count": 39,
   "metadata": {},
   "outputs": [
    {
     "name": "stdout",
     "output_type": "stream",
     "text": [
      "Merged Linked List: 1 -> 2 -> 3 -> 4\n"
     ]
    }
   ],
   "source": [
    "class Node:\n",
    "    def __init__(self, value):\n",
    "        self.data = value\n",
    "        self.next = None\n",
    "\n",
    "class linklist:\n",
    "    def __init__(self):\n",
    "        self.head = None\n",
    "        self.n = 0\n",
    "    \n",
    "    def __len__(self):\n",
    "        return self.n\n",
    "    \n",
    "    def insert(self, value):\n",
    "        new_node = Node(value)\n",
    "        new_node.next = self.head\n",
    "        self.head = new_node\n",
    "        self.n += 1\n",
    "    \n",
    "    def cycle_detector(self):\n",
    "        hare = self.head\n",
    "        tortoise = self.head\n",
    "        while hare is not None and hare.next is not None:\n",
    "            hare = hare.next.next  # Moves two steps\n",
    "            tortoise = tortoise.next  # Moves one step\n",
    "            if hare == tortoise:\n",
    "                return True  # Cycle detected\n",
    "        return False  # No cycle\n",
    "    \n",
    "    def traverse(self):\n",
    "        result = ''\n",
    "        curr = self.head\n",
    "        while curr is not None:\n",
    "            result += str(curr.data) + ' -> '\n",
    "            curr = curr.next\n",
    "        return result[:-4] if result else \"empty list\"\n",
    "    \n",
    "    @staticmethod\n",
    "    def merge_list(head1, head2):\n",
    "        if head1 is None:\n",
    "            return head2\n",
    "        if head2 is None:\n",
    "            return head1\n",
    "        \n",
    "        if head1.data <= head2.data:\n",
    "            temp = head1\n",
    "            temp.next = linklist.merge_list(head1.next, head2)  # Correct recursive call\n",
    "        else:\n",
    "            temp = head2\n",
    "            temp.next = linklist.merge_list(head1, head2.next)  # Correct recursive call\n",
    "        \n",
    "        return temp\n",
    "\n",
    "# Creating first linked list\n",
    "obj = linklist()\n",
    "obj.insert(2)\n",
    "obj.insert(1)\n",
    "\n",
    "# Creating second linked list\n",
    "obj2 = linklist()\n",
    "obj2.insert(4)\n",
    "obj2.insert(3)\n",
    "\n",
    "# Merging both lists into a third linked list\n",
    "obj3 = linklist()\n",
    "obj3.head = linklist.merge_list(obj.head, obj2.head)  # Correct call\n",
    "\n",
    "# Displaying merged list\n",
    "print(\"Merged Linked List:\", obj3.traverse())  # Expected Output: \"1 -> 2 -> 3 -> 4\"\n"
   ]
  },
  {
   "cell_type": "code",
   "execution_count": null,
   "metadata": {},
   "outputs": [],
   "source": []
  }
 ],
 "metadata": {
  "kernelspec": {
   "display_name": "base",
   "language": "python",
   "name": "python3"
  },
  "language_info": {
   "codemirror_mode": {
    "name": "ipython",
    "version": 3
   },
   "file_extension": ".py",
   "mimetype": "text/x-python",
   "name": "python",
   "nbconvert_exporter": "python",
   "pygments_lexer": "ipython3",
   "version": "3.12.4"
  }
 },
 "nbformat": 4,
 "nbformat_minor": 2
}
