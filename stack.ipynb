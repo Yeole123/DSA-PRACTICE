{
 "cells": [
  {
   "cell_type": "code",
   "execution_count": null,
   "metadata": {},
   "outputs": [],
   "source": [
    "# stack : It follows the lifo or filo \n",
    "          "
   ]
  },
  {
   "cell_type": "code",
   "execution_count": 1,
   "metadata": {},
   "outputs": [],
   "source": [
    "class Node:\n",
    "    def __init__(self,value):\n",
    "        self.data=value\n",
    "        self.next=None \n",
    "    "
   ]
  },
  {
   "cell_type": "code",
   "execution_count": null,
   "metadata": {},
   "outputs": [],
   "source": [
    "class Stack:\n",
    "    def __init__(self):\n",
    "        self.top=None \n",
    "    def isempty(self):\n",
    "        return True if self.top = None else False\n",
    "    def push(self,value):\n",
    "        new_node=Node(value)\n",
    "    # new node must be ahead of the previous node\n",
    "        new_node.next=self.top \n",
    "        self.top=new_node\n",
    "    def traverse(self):\n",
    "        curr=self.top \n",
    "        while curr!=None:\n",
    "            print(curr.data)\n",
    "            curr=curr.next \n",
    "    def peek(self):\n",
    "        if self.top==None:\n",
    "            return \"empty stack\"\n",
    "        else:\n",
    "             return self.top.data \n",
    "    def pop(self):\n",
    "        if self.top==None:\n",
    "            return \"stack is empty\"     \n",
    "        else:\n",
    "            self.top=self.top.next"
   ]
  },
  {
   "cell_type": "code",
   "execution_count": 16,
   "metadata": {},
   "outputs": [],
   "source": [
    "class Node:\n",
    "    def __init_(self,value):\n",
    "        self.data=value\n",
    "        self.next=None"
   ]
  },
  {
   "cell_type": "code",
   "execution_count": 17,
   "metadata": {},
   "outputs": [],
   "source": [
    "# string reversal using stack \n",
    "\n",
    "class stack:\n",
    "    def __init__(self):\n",
    "        self.top=None\n",
    "    def isempty(self):\n",
    "        return True if self.top ==None else False \n",
    "    def push(self,value):\n",
    "        new_node=Node(value)\n",
    "        new_node.next=self.top\n",
    "        self.top=new_node \n",
    "    def pop(self):\n",
    "        if self.top==None:\n",
    "            return \"empty\"\n",
    "        else:\n",
    "            data=self.top.data\n",
    "            self.top=self.top.next\n",
    "        return data\n"
   ]
  },
  {
   "cell_type": "code",
   "execution_count": 18,
   "metadata": {},
   "outputs": [],
   "source": [
    "s=stack()\n"
   ]
  },
  {
   "cell_type": "code",
   "execution_count": 19,
   "metadata": {},
   "outputs": [],
   "source": [
    "def reverse(text):\n",
    "    s=stack()\n",
    "    for i in text:\n",
    "        s.push(i)\n",
    "    result=''\n",
    "    for i in text:\n",
    "        while not s.isempty():\n",
    "            res=s.pop()+result\n",
    "    print(result)\n",
    "            \n",
    "\n"
   ]
  },
  {
   "cell_type": "code",
   "execution_count": 21,
   "metadata": {},
   "outputs": [
    {
     "ename": "TypeError",
     "evalue": "Node() takes no arguments",
     "output_type": "error",
     "traceback": [
      "\u001b[1;31m---------------------------------------------------------------------------\u001b[0m",
      "\u001b[1;31mTypeError\u001b[0m                                 Traceback (most recent call last)",
      "Cell \u001b[1;32mIn[21], line 1\u001b[0m\n\u001b[1;32m----> 1\u001b[0m reverse(\u001b[38;5;124m\"\u001b[39m\u001b[38;5;124mhello\u001b[39m\u001b[38;5;124m\"\u001b[39m)\n",
      "Cell \u001b[1;32mIn[19], line 4\u001b[0m, in \u001b[0;36mreverse\u001b[1;34m(text)\u001b[0m\n\u001b[0;32m      2\u001b[0m s\u001b[38;5;241m=\u001b[39mstack()\n\u001b[0;32m      3\u001b[0m \u001b[38;5;28;01mfor\u001b[39;00m i \u001b[38;5;129;01min\u001b[39;00m text:\n\u001b[1;32m----> 4\u001b[0m     s\u001b[38;5;241m.\u001b[39mpush(i)\n\u001b[0;32m      5\u001b[0m result\u001b[38;5;241m=\u001b[39m\u001b[38;5;124m'\u001b[39m\u001b[38;5;124m'\u001b[39m\n\u001b[0;32m      6\u001b[0m \u001b[38;5;28;01mfor\u001b[39;00m i \u001b[38;5;129;01min\u001b[39;00m text:\n",
      "Cell \u001b[1;32mIn[17], line 9\u001b[0m, in \u001b[0;36mstack.push\u001b[1;34m(self, value)\u001b[0m\n\u001b[0;32m      8\u001b[0m \u001b[38;5;28;01mdef\u001b[39;00m \u001b[38;5;21mpush\u001b[39m(\u001b[38;5;28mself\u001b[39m,value):\n\u001b[1;32m----> 9\u001b[0m     new_node\u001b[38;5;241m=\u001b[39mNode(value)\n\u001b[0;32m     10\u001b[0m     new_node\u001b[38;5;241m.\u001b[39mnext\u001b[38;5;241m=\u001b[39m\u001b[38;5;28mself\u001b[39m\u001b[38;5;241m.\u001b[39mtop\n\u001b[0;32m     11\u001b[0m     \u001b[38;5;28mself\u001b[39m\u001b[38;5;241m.\u001b[39mtop\u001b[38;5;241m=\u001b[39mnew_node\n",
      "\u001b[1;31mTypeError\u001b[0m: Node() takes no arguments"
     ]
    }
   ],
   "source": [
    "\n",
    "reverse(\"hello\")"
   ]
  },
  {
   "cell_type": "code",
   "execution_count": null,
   "metadata": {},
   "outputs": [],
   "source": []
  }
 ],
 "metadata": {
  "kernelspec": {
   "display_name": "base",
   "language": "python",
   "name": "python3"
  },
  "language_info": {
   "codemirror_mode": {
    "name": "ipython",
    "version": 3
   },
   "file_extension": ".py",
   "mimetype": "text/x-python",
   "name": "python",
   "nbconvert_exporter": "python",
   "pygments_lexer": "ipython3",
   "version": "3.12.4"
  }
 },
 "nbformat": 4,
 "nbformat_minor": 2
}
