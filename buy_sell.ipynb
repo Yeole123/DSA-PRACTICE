{
 "cells": [
  {
   "cell_type": "code",
   "execution_count": 3,
   "metadata": {},
   "outputs": [
    {
     "data": {
      "text/plain": [
       "5"
      ]
     },
     "execution_count": 3,
     "metadata": {},
     "output_type": "execute_result"
    }
   ],
   "source": [
    "arr=[7,1,5,3,6,4]\n",
    "def bestbuy(arr):\n",
    "    max_profit=0 \n",
    "    min_price=float('inf')\n",
    "    for i in range(len(arr)):\n",
    "        if arr[i]<min_price:\n",
    "            min_price=arr[i]\n",
    "        elif max_profit<arr[i]-min_price:\n",
    "            max_profit=arr[i]-min_price\n",
    "    return max_profit \n",
    "bestbuy(arr)\n",
    " "
   ]
  },
  {
   "cell_type": "code",
   "execution_count": 1,
   "metadata": {},
   "outputs": [
    {
     "name": "stdout",
     "output_type": "stream",
     "text": [
      "yes,collinear\n"
     ]
    },
    {
     "name": "stderr",
     "output_type": "stream",
     "text": [
      "<>:9: SyntaxWarning: 'float' object is not callable; perhaps you missed a comma?\n",
      "<>:9: SyntaxWarning: 'float' object is not callable; perhaps you missed a comma?\n",
      "C:\\Users\\athar\\AppData\\Local\\Temp\\ipykernel_2156\\1451298377.py:9: SyntaxWarning: 'float' object is not callable; perhaps you missed a comma?\n",
      "  if 0.5(x1*(y2-y3)+x2*(y3-y1)+x3*(y1-y2))==0:\n"
     ]
    }
   ],
   "source": [
    "# collinear or not : approach 1 find the slopes . m1 and m2 if they are equal then points are colliner \n",
    "# approach 2 : if area of triangle is zero and then they are not collinear else collinear \n",
    "def func1(x1,x2,x3,y1,y2,y3):\n",
    "    if ((y2-y1)*(x3-x2)==(y3-y2)*(x2-x1)):\n",
    "        print(\"yes,collinear\")\n",
    "    else:\n",
    "        print(\"not collinear \")\n",
    "def func2(x1,x2,x3,y1,y2,y3):\n",
    "    if 0.5(x1*(y2-y3)+x2*(y3-y1)+x3*(y1-y2))==0:\n",
    "        print(\" not collinear \")\n",
    "    else: \n",
    "        print(\"not collinear \")\n",
    "x1,x2,x3,y1,y2,y3=1,1,1,6,0,9\n",
    "func1(x1,x2,x3,y1,y2,y3)"
   ]
  },
  {
   "cell_type": "code",
   "execution_count": 7,
   "metadata": {},
   "outputs": [
    {
     "ename": "SyntaxError",
     "evalue": "invalid syntax (1699800029.py, line 26)",
     "output_type": "error",
     "traceback": [
      "\u001b[1;36m  Cell \u001b[1;32mIn[7], line 26\u001b[1;36m\u001b[0m\n\u001b[1;33m    x=printmajorityelement(nums)\u001b[0m\n\u001b[1;37m    ^\u001b[0m\n\u001b[1;31mSyntaxError\u001b[0m\u001b[1;31m:\u001b[0m invalid syntax\n"
     ]
    }
   ],
   "source": [
    "# majority element \n",
    "def findcandidate(nums):\n",
    "    count=0\n",
    "    candidate=None\n",
    "    for num in nums :\n",
    "        if count==0:\n",
    "            candidate=nums\n",
    "            count+=(l if num == candidate else -1)\n",
    "    return candidate\n",
    "def ismajority(nums,candidate):\n",
    "    cnt=0\n",
    "    n=len(arr)\n",
    "    for i in range(n):\n",
    "        if nums[i]==candidate:\n",
    "            cnt+=1\n",
    "        if cnt>n/2:\n",
    "            return 1 \n",
    "        else:\n",
    "            return 0\n",
    "def printmajorityelement(nums):\n",
    "    candidate=findcandidate(nums)\n",
    "    if ismajority(nums,candidate):\n",
    "        print(\"majority element in an arryay is \",candidate)\n",
    "\n",
    "nums=[2,2,1,1,1,2,2]\\\n",
    "x=printmajorityelement(nums)\n",
    "print(x)\n",
    "\n"
   ]
  },
  {
   "cell_type": "code",
   "execution_count": 7,
   "metadata": {},
   "outputs": [
    {
     "data": {
      "text/plain": [
       "[0, 0, 1, 1, 2, 2]"
      ]
     },
     "execution_count": 7,
     "metadata": {},
     "output_type": "execute_result"
    }
   ],
   "source": [
    "# sort colors  \n",
    "def colors(nums):\n",
    "    p0=curr=0\n",
    "    p1=len(nums)-1\n",
    "    while curr<=p1:\n",
    "        if nums[curr]==0:\n",
    "            temp=nums[p0]\n",
    "            nums[p0]=nums[curr]\n",
    "            nums[curr]=temp\n",
    "            p0+=1\n",
    "            curr+=1\n",
    "        elif nums[curr]==2:\n",
    "            temp=nums[p1]\n",
    "            nums[p1]=nums[curr]\n",
    "            nums[curr]=temp\n",
    "            p1-=1\n",
    "        else:\n",
    "            curr+=1\n",
    "    return nums\n",
    "colors([2,0,2,1,1,0])\n",
    "\n"
   ]
  },
  {
   "cell_type": "code",
   "execution_count": null,
   "metadata": {},
   "outputs": [],
   "source": []
  }
 ],
 "metadata": {
  "kernelspec": {
   "display_name": "base",
   "language": "python",
   "name": "python3"
  },
  "language_info": {
   "codemirror_mode": {
    "name": "ipython",
    "version": 3
   },
   "file_extension": ".py",
   "mimetype": "text/x-python",
   "name": "python",
   "nbconvert_exporter": "python",
   "pygments_lexer": "ipython3",
   "version": "3.12.4"
  }
 },
 "nbformat": 4,
 "nbformat_minor": 2
}
