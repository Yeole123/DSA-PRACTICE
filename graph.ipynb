{
 "cells": [
  {
   "cell_type": "code",
   "execution_count": 10,
   "metadata": {},
   "outputs": [
    {
     "name": "stdout",
     "output_type": "stream",
     "text": [
      "5 3 2 4 8 7 "
     ]
    }
   ],
   "source": [
    "def depthFirstTraversal(visited, graph, node):\n",
    "    if node not in visited:\n",
    "        print(node, end=\" \")\n",
    "        visited.add(node)\n",
    "        for adjacent in graph[node]:\n",
    "            depthFirstTraversal(visited, graph, adjacent)\n",
    "\n",
    "# Driver Code\n",
    "graph = {\n",
    "    '5': ['3', '7'],\n",
    "    '3': ['2', '4'],\n",
    "    '7': ['8'],\n",
    "    '2': [],\n",
    "    '4': ['8'],\n",
    "    '8': []\n",
    "}\n",
    "\n",
    "visited = set()\n",
    "depthFirstTraversal(visited, graph, '5')\n"
   ]
  },
  {
   "cell_type": "code",
   "execution_count": 11,
   "metadata": {},
   "outputs": [
    {
     "name": "stdout",
     "output_type": "stream",
     "text": [
      "5 3 2 4 8 7 "
     ]
    }
   ],
   "source": [
    "def depthFirstTraversal(visited, graph, node):\n",
    "    if visited[node] == 0:\n",
    "        print(node, end=\" \")\n",
    "        visited[node] = 1  # Mark node as visited\n",
    "\n",
    "        adj_list = graph[node]  # Get adjacent nodes\n",
    "        size = len(adj_list)\n",
    "        i = 0\n",
    "        while i < size:  # Using a while loop like in C++/Java\n",
    "            if visited[adj_list[i]] == 0:\n",
    "                depthFirstTraversal(visited, graph, adj_list[i])\n",
    "            i += 1\n",
    "\n",
    "# Driver Code\n",
    "graph = {\n",
    "    '5': ['3', '7'],\n",
    "    '3': ['2', '4'],\n",
    "    '7': ['8'],\n",
    "    '2': [],\n",
    "    '4': ['8'],\n",
    "    '8': []\n",
    "}\n",
    "\n",
    "# Create a dictionary to mimic a boolean array (like in C++/Java)\n",
    "visited = {}\n",
    "for key in graph:\n",
    "    visited[key] = 0  # Initialize all nodes as unvisited\n",
    "\n",
    "depthFirstTraversal(visited, graph, '5')\n"
   ]
  },
  {
   "cell_type": "code",
   "execution_count": null,
   "metadata": {},
   "outputs": [],
   "source": []
  }
 ],
 "metadata": {
  "kernelspec": {
   "display_name": "base",
   "language": "python",
   "name": "python3"
  },
  "language_info": {
   "codemirror_mode": {
    "name": "ipython",
    "version": 3
   },
   "file_extension": ".py",
   "mimetype": "text/x-python",
   "name": "python",
   "nbconvert_exporter": "python",
   "pygments_lexer": "ipython3",
   "version": "3.12.4"
  }
 },
 "nbformat": 4,
 "nbformat_minor": 2
}
